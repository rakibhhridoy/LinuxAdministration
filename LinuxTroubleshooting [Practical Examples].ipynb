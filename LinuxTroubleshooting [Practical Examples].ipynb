{
 "cells": [
  {
   "cell_type": "code",
   "execution_count": 4,
   "id": "91514915",
   "metadata": {},
   "outputs": [
    {
     "name": "stdout",
     "output_type": "stream",
     "text": [
      "alias egrep='egrep --color=auto'\n",
      "alias fgrep='fgrep --color=auto'\n",
      "alias grep='grep --color=auto'\n",
      "alias l.='ls -d .* --color=auto'\n",
      "alias ll='ls -l --color=auto'\n",
      "alias ls='ls --color=auto'\n",
      "alias xzegrep='xzegrep --color=auto'\n",
      "alias xzfgrep='xzfgrep --color=auto'\n",
      "alias xzgrep='xzgrep --color=auto'\n",
      "alias zegrep='zegrep --color=auto'\n",
      "alias zfgrep='zfgrep --color=auto'\n",
      "alias zgrep='zgrep --color=auto'\n",
      "\u001b[?2004h"
     ]
    },
    {
     "ename": "",
     "evalue": "1",
     "output_type": "error",
     "traceback": []
    }
   ],
   "source": [
    "alias"
   ]
  },
  {
   "cell_type": "code",
   "execution_count": 11,
   "id": "1f26760f",
   "metadata": {},
   "outputs": [
    {
     "name": "stdout",
     "output_type": "stream",
     "text": [
      "\u001b[?2004l\r",
      "\u001b[?2004h"
     ]
    },
    {
     "ename": "",
     "evalue": "1",
     "output_type": "error",
     "traceback": []
    }
   ],
   "source": [
    "alias s=\"echo DSAlgo56 | sudo -S\""
   ]
  },
  {
   "cell_type": "code",
   "execution_count": 14,
   "id": "580bc17c",
   "metadata": {},
   "outputs": [
    {
     "name": "stdout",
     "output_type": "stream",
     "text": [
      "usage: sudo -h | -K | -k | -V\n",
      "usage: sudo -v [-ABknS] [-g group] [-h host] [-p prompt] [-u user]\n",
      "usage: sudo -l [-ABknS] [-g group] [-h host] [-p prompt] [-U user] [-u user]\n",
      "            [command]\n",
      "usage: sudo [-ABbEHknPS] [-r role] [-t type] [-C num] [-D directory] [-g group]\n",
      "            [-h host] [-p prompt] [-R directory] [-T timeout] [-u user]\n",
      "            [VAR=value] [-i|-s] [<command>]\n",
      "usage: sudo -e [-ABknS] [-r role] [-t type] [-C num] [-D directory] [-g group]\n",
      "            [-h host] [-p prompt] [-R directory] [-T timeout] [-u user] file ...\n",
      "\u001b[?2004h"
     ]
    },
    {
     "ename": "",
     "evalue": "1",
     "output_type": "error",
     "traceback": []
    }
   ],
   "source": [
    "s #superuser privileage"
   ]
  },
  {
   "cell_type": "code",
   "execution_count": null,
   "id": "c921d6cb",
   "metadata": {},
   "outputs": [],
   "source": []
  }
 ],
 "metadata": {
  "kernelspec": {
   "display_name": "Bash",
   "language": "bash",
   "name": "bash"
  },
  "language_info": {
   "codemirror_mode": "shell",
   "file_extension": ".sh",
   "mimetype": "text/x-sh",
   "name": "bash"
  }
 },
 "nbformat": 4,
 "nbformat_minor": 5
}
