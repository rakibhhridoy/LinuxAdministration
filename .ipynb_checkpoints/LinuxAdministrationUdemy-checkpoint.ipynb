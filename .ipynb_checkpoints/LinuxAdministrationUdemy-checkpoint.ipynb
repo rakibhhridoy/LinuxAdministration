{
 "cells": [
  {
   "cell_type": "markdown",
   "id": "9ef964f1",
   "metadata": {},
   "source": [
    "## <center> The linux boot Process"
   ]
  },
  {
   "cell_type": "markdown",
   "id": "9566d81d",
   "metadata": {},
   "source": [
    "#### <center> Objectives\n",
    "\n",
    "- Bios\n",
    "- Boot loaders\n",
    "- Linux Kernel\n",
    "- Runlevels "
   ]
  },
  {
   "cell_type": "markdown",
   "id": "7edf401f",
   "metadata": {},
   "source": [
    "### <center> BIOS <hr>\n",
    "- Basic Input Output System \n",
    "- Special Firmware\n",
    "- Its Operating system independent\n",
    "- Primary purpose is to find and execute boot loader\n",
    "- Performs the POST\n",
    "    - Power-On Self Test\n",
    "    \n",
    "<br>\n",
    "\n",
    "- Knows about bootable devices\n",
    "    - Hard Drives\n",
    "    - USB Drives\n",
    "    - DVD drives\n",
    "    - so on...\n",
    "- The boot devices search order can be changed \n",
    "    "
   ]
  },
  {
   "cell_type": "markdown",
   "id": "3ebaf208",
   "metadata": {},
   "source": [
    "### <center> Boot Loaders <hr>\n",
    "\n",
    "\n",
    "- LILO\n",
    "    - Linux Loader (Old used loader)\n",
    "- GRUB \n",
    "    - Grand Unified Bootloader\n",
    "    - Replaced LILO\n",
    "- Boot loader loads operating system \n",
    "\n",
    "    \n",
    "Viewing Boot Messages\n",
    "\n",
    "```bash\n",
    "    dmesg\n",
    "```"
   ]
  },
  {
   "cell_type": "markdown",
   "id": "bdbabefa",
   "metadata": {},
   "source": [
    "### <center> Initial RAM Disk (initrd)\n",
    "- Temporary filesystem that is loaded from disk and stored in memory\n",
    "- Contains helpers and modules required to load the permanent OS file system\n",
    "- Once mounting to **/boot** , its job is done\n",
    "    "
   ]
  },
  {
   "cell_type": "markdown",
   "id": "af63f2c7",
   "metadata": {},
   "source": [
    "```\n",
    "/boot \n",
    "   |___ abi-3.13.0-46-generic\n",
    "   |___ initrd.img-3.x.x.0-46-generic\n",
    "   |___ config-3.x.x.0-46-generic\n",
    "   |___ System.map-3.x.x.0-46-generic\n",
    "   |___ grub/\n",
    "   |___ vmlinuz-3.x.x.0-46-generic\n",
    "```    "
   ]
  },
  {
   "cell_type": "markdown",
   "id": "41b6a653",
   "metadata": {},
   "source": [
    "```bash\n",
    "ls -F /boot\n",
    "```"
   ]
  },
  {
   "cell_type": "markdown",
   "id": "03523f45",
   "metadata": {},
   "source": [
    "- Kernel Ring Buffer\n",
    "    - `dmesg` \n",
    "    - `/var/log/dmesg`"
   ]
  },
  {
   "cell_type": "markdown",
   "id": "d19e5afb",
   "metadata": {},
   "source": [
    "```\n",
    "Runlevels          Description\n",
    "\n",
    "0       -------- shut down the system\n",
    "1, S, s -------- single user mode; for maintainance\n",
    "2       -------- Multi user mode with gui [debian/ubuntu]\n",
    "3       -------- Multi user mode text mode [RedHat]\n",
    "4       -------- undefined\n",
    "5       -------- Multi user mode with graphical interface [RedHat]\n",
    "6       -------- Reboot\n",
    "```"
   ]
  },
  {
   "cell_type": "code",
   "execution_count": 2,
   "id": "6d6291e4",
   "metadata": {},
   "outputs": [
    {
     "name": "stdout",
     "output_type": "stream",
     "text": [
      "\u001b[?2004l\r",
      "\u001b[?2004h"
     ]
    },
    {
     "ename": "",
     "evalue": "1",
     "output_type": "error",
     "traceback": []
    }
   ],
   "source": [
    "cd /lib/systemd/system"
   ]
  },
  {
   "cell_type": "code",
   "execution_count": null,
   "id": "8d219426",
   "metadata": {},
   "outputs": [],
   "source": []
  },
  {
   "cell_type": "code",
   "execution_count": null,
   "id": "3db35287",
   "metadata": {},
   "outputs": [],
   "source": []
  },
  {
   "cell_type": "code",
   "execution_count": null,
   "id": "bab257e7",
   "metadata": {},
   "outputs": [],
   "source": []
  },
  {
   "cell_type": "code",
   "execution_count": null,
   "id": "a950a142",
   "metadata": {},
   "outputs": [],
   "source": []
  },
  {
   "cell_type": "code",
   "execution_count": null,
   "id": "5f5edc32",
   "metadata": {},
   "outputs": [],
   "source": []
  },
  {
   "cell_type": "code",
   "execution_count": null,
   "id": "0e0d6c98",
   "metadata": {},
   "outputs": [],
   "source": []
  }
 ],
 "metadata": {
  "kernelspec": {
   "display_name": "Bash",
   "language": "bash",
   "name": "bash"
  },
  "language_info": {
   "codemirror_mode": "shell",
   "file_extension": ".sh",
   "mimetype": "text/x-sh",
   "name": "bash"
  }
 },
 "nbformat": 4,
 "nbformat_minor": 5
}
