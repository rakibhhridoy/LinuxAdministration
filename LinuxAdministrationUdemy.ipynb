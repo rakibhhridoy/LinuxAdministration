{
 "cells": [
  {
   "cell_type": "markdown",
   "id": "9ef964f1",
   "metadata": {},
   "source": [
    "## <center> The linux boot Process"
   ]
  },
  {
   "cell_type": "markdown",
   "id": "9566d81d",
   "metadata": {},
   "source": [
    "#### <center> Objectives\n",
    "\n",
    "- Bios\n",
    "- Boot loaders\n",
    "- Linux Kernel\n",
    "- Runlevels "
   ]
  },
  {
   "cell_type": "markdown",
   "id": "7edf401f",
   "metadata": {},
   "source": [
    "### <center> BIOS <hr>\n",
    "- Basic Input Output System \n",
    "- Special Firmware\n",
    "- Its Operating system independent\n",
    "- Primary purpose is to find and execute boot loader\n",
    "- Performs the POST\n",
    "    - Power-On Self Test\n",
    "    \n",
    "<br>\n",
    "\n",
    "- Knows about bootable devices\n",
    "    - Hard Drives\n",
    "    - USB Drives\n",
    "    - DVD drives\n",
    "    - so on...\n",
    "- The boot devices search order can be changed \n",
    "    "
   ]
  },
  {
   "cell_type": "markdown",
   "id": "3ebaf208",
   "metadata": {},
   "source": [
    "### <center> Boot Loaders <hr>\n",
    "\n",
    "\n",
    "- LILO\n",
    "    - Linux Loader (Old used loader)\n",
    "- GRUB \n",
    "    - Grand Unified Bootloader\n",
    "    - Replaced LILO\n",
    "- Boot loader loads operating system \n",
    "\n",
    "    \n",
    "Viewing Boot Messages\n",
    "\n",
    "```bash\n",
    "    dmesg\n",
    "```"
   ]
  },
  {
   "cell_type": "markdown",
   "id": "bdbabefa",
   "metadata": {},
   "source": [
    "### <center> Initial RAM Disk (initrd)\n",
    "- Temporary filesystem that is loaded from disk and stored in memory\n",
    "- Contains helpers and modules required to load the permanent OS file system\n",
    "- Once mounting to **/boot** , its job is done\n",
    "    "
   ]
  },
  {
   "cell_type": "code",
   "execution_count": null,
   "id": "f5985991",
   "metadata": {},
   "outputs": [],
   "source": []
  }
 ],
 "metadata": {
  "kernelspec": {
   "display_name": "Bash",
   "language": "bash",
   "name": "bash"
  },
  "language_info": {
   "codemirror_mode": "shell",
   "file_extension": ".sh",
   "mimetype": "text/x-sh",
   "name": "bash"
  }
 },
 "nbformat": 4,
 "nbformat_minor": 5
}
